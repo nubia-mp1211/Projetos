{
 "cells": [
  {
   "cell_type": "code",
   "execution_count": 10,
   "metadata": {},
   "outputs": [
    {
     "name": "stdout",
     "output_type": "stream",
     "text": [
      "[]\n",
      "Empty DataFrame\n",
      "Columns: []\n",
      "Index: []\n"
     ]
    }
   ],
   "source": [
    "from selenium import webdriver\n",
    "import pandas as pd\n",
    "\n",
    "\n",
    "driver = webdriver.Chrome()\n",
    "\n",
    "driver.get('http://google.com')\n",
    "\n",
    "url='https://www.linkedin.com/jobs/search/?currentJobId=2446404805&keywords=cientista%20de%20dados'\n",
    "\n",
    "driver.get(url)\n",
    "\n",
    "cards = driver.find_elements_by_class_name('jobs-search-results')\n",
    "\n",
    "job_post_url = []\n",
    "\n",
    "for card in cards:\n",
    "    job_post_url.append(card.get_attribute(\"href\"))\n",
    "print(job_post_url)\n",
    "    \n",
    "df = pd.DataFrame(job_post_url)\n",
    "print(df.head())\n",
    "df.to_csv('linkedin_output_nubia.csv')"
   ]
  },
  {
   "cell_type": "code",
   "execution_count": null,
   "metadata": {},
   "outputs": [],
   "source": []
  },
  {
   "cell_type": "code",
   "execution_count": null,
   "metadata": {},
   "outputs": [],
   "source": []
  }
 ],
 "metadata": {
  "kernelspec": {
   "display_name": "Python 3",
   "language": "python",
   "name": "python3"
  },
  "language_info": {
   "codemirror_mode": {
    "name": "ipython",
    "version": 3
   },
   "file_extension": ".py",
   "mimetype": "text/x-python",
   "name": "python",
   "nbconvert_exporter": "python",
   "pygments_lexer": "ipython3",
   "version": "3.8.5"
  }
 },
 "nbformat": 4,
 "nbformat_minor": 4
}
