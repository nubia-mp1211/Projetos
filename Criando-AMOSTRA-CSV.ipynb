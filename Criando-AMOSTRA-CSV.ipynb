{
 "cells": [
  {
   "cell_type": "markdown",
   "metadata": {},
   "source": [
    "# Este programa faz a leitura do arquivo: vacinas.csv que contem todas as informações dos\n",
    "## vacinados, contem muitos dados.\n",
    "## Assim, estou gerando um arquivo de AMOSTRAGEM com 0.01% dos dados"
   ]
  },
  {
   "cell_type": "code",
   "execution_count": 12,
   "metadata": {},
   "outputs": [
    {
     "name": "stdout",
     "output_type": "stream",
     "text": [
      "Abrindo arquivo csv...  \n",
      "Fazendo leitura do Arquivo csv ....\n",
      "Criando arquivo AMOSTRA..\n",
      "Finalizando ....\n"
     ]
    }
   ],
   "source": [
    "# Importando as bibliotecas:\n",
    "\n",
    "import requests \n",
    "import pandas as pd\n",
    "import csv\n",
    "import time\n",
    "from random   import random\n",
    "from datetime import datetime\n",
    "\n",
    "# Definindo o PATH para o Arquivo Principal Vacinas.csv:\n",
    "print('Abrindo arquivo csv...  ')\n",
    "saving_path = 'vacinas_2021-05-02-1021.csv'\n",
    "print('Fazendo leitura do Arquivo csv ....')\n",
    "\n",
    "with open(saving_path, 'r') as fin:\n",
    "    reader = csv.reader(fin)\n",
    "    \n",
    "    # Colocando os nomes da coluna!!\n",
    "    nomes_colunas  = pd.Series(['vacina_fabricante_nome',\n",
    "             'paciente_idade',\n",
    "             'paciente_id',\n",
    "             'vacina_dataAplicacao',\n",
    "             'paciente_endereco_uf',\n",
    "             'vacina_descricao_dose'])\n",
    "      \n",
    "    \n",
    "    # Pulando a primeria linha, porque aparece reader[0] = '0'\n",
    "    # primeira_linha = next(reader)    \n",
    " \n",
    "    # Note que o valor da porcentagem, será o tamanho do arquivo de AMOSTRA!!\n",
    "    \n",
    "    rows   = [i for i in reader if random () <= 0.001] \n",
    "        \n",
    "    df     = pd.DataFrame(rows)\n",
    "    \n",
    "    # Como inserir uma linha no DataFrame, antes de salvar o arquivo [0]\n",
    "    \n",
    "    row_df = pd.DataFrame([nomes_colunas])\n",
    "    \n",
    "    print('Criando arquivo AMOSTRA..')\n",
    "\n",
    "    df = pd.concat([row_df, df], ignore_index = False)\n",
    "    \n",
    "    df.columns = df.iloc[0]\n",
    "    df = df[1:]\n",
    "        \n",
    "    # Criando o arquivo BD_Vacina_Amostra-30-04-2021.csv \n",
    "    \n",
    "    df.to_csv('BD_Vacina_Amostra-02-05-2021.csv', index = False, sep = ';')\n",
    "     \n",
    "    \n",
    "print('Finalizando ....')    "
   ]
  },
  {
   "cell_type": "code",
   "execution_count": 13,
   "metadata": {},
   "outputs": [
    {
     "name": "stdout",
     "output_type": "stream",
     "text": [
      "<class 'pandas.core.frame.DataFrame'>\n",
      "Int64Index: 44472 entries, 0 to 44471\n",
      "Data columns (total 6 columns):\n",
      " #   Column                  Non-Null Count  Dtype \n",
      "---  ------                  --------------  ----- \n",
      " 0   vacina_fabricante_nome  44472 non-null  object\n",
      " 1   paciente_idade          0 non-null      object\n",
      " 2   paciente_id             0 non-null      object\n",
      " 3   vacina_dataAplicacao    0 non-null      object\n",
      " 4   paciente_endereco_uf    0 non-null      object\n",
      " 5   vacina_descricao_dose   0 non-null      object\n",
      "dtypes: object(6)\n",
      "memory usage: 2.4+ MB\n"
     ]
    }
   ],
   "source": [
    "df.info()"
   ]
  },
  {
   "cell_type": "code",
   "execution_count": 17,
   "metadata": {},
   "outputs": [
    {
     "data": {
      "text/plain": [
       "Int64Index([    0,     1,     2,     3,     4,     5,     6,     7,     8,\n",
       "                9,\n",
       "            ...\n",
       "            44462, 44463, 44464, 44465, 44466, 44467, 44468, 44469, 44470,\n",
       "            44471],\n",
       "           dtype='int64', length=44472)"
      ]
     },
     "execution_count": 17,
     "metadata": {},
     "output_type": "execute_result"
    }
   ],
   "source": [
    "df.index\n"
   ]
  },
  {
   "cell_type": "code",
   "execution_count": null,
   "metadata": {},
   "outputs": [],
   "source": []
  },
  {
   "cell_type": "code",
   "execution_count": null,
   "metadata": {},
   "outputs": [],
   "source": []
  },
  {
   "cell_type": "code",
   "execution_count": null,
   "metadata": {},
   "outputs": [],
   "source": []
  },
  {
   "cell_type": "code",
   "execution_count": null,
   "metadata": {},
   "outputs": [],
   "source": []
  },
  {
   "cell_type": "markdown",
   "metadata": {},
   "source": [
    "columns = ['vacina_fabricante_nome',\n",
    "             'paciente_idade',\n",
    "             'paciente_id',\n",
    "              'vacina_dataAplicacao',\n",
    "              'paciente_endereco_uf',\n",
    "              'vacina_descricao_dose']"
   ]
  },
  {
   "cell_type": "code",
   "execution_count": null,
   "metadata": {},
   "outputs": [],
   "source": []
  },
  {
   "cell_type": "code",
   "execution_count": null,
   "metadata": {},
   "outputs": [],
   "source": []
  },
  {
   "cell_type": "code",
   "execution_count": null,
   "metadata": {},
   "outputs": [],
   "source": []
  }
 ],
 "metadata": {
  "kernelspec": {
   "display_name": "Python 3",
   "language": "python",
   "name": "python3"
  },
  "language_info": {
   "codemirror_mode": {
    "name": "ipython",
    "version": 3
   },
   "file_extension": ".py",
   "mimetype": "text/x-python",
   "name": "python",
   "nbconvert_exporter": "python",
   "pygments_lexer": "ipython3",
   "version": "3.8.5"
  }
 },
 "nbformat": 4,
 "nbformat_minor": 4
}
