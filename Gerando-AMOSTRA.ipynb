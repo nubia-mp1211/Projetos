{
 "cells": [
  {
   "cell_type": "markdown",
   "metadata": {},
   "source": [
    "# Programa que cria o arquivo AMOSTRA com campos randomicamente"
   ]
  },
  {
   "cell_type": "code",
   "execution_count": 6,
   "metadata": {},
   "outputs": [
    {
     "name": "stdout",
     "output_type": "stream",
     "text": [
      "Abrindo arquivo csv...  \n",
      "Fazendo leitura do Arquivo csv ....\n",
      "['vacina_fabricante_nome', 'paciente_idade', 'paciente_id', 'vacina_dataAplicacao', 'paciente_endereco_uf', 'vacina_descricao_dose']\n",
      "Criando arquivo AMOSTRA..\n",
      "DataFrame com as colunas que eu quero...\n",
      "Finalizando ....\n"
     ]
    }
   ],
   "source": [
    "# Importando as bibliotecas:\n",
    "\n",
    "import csv\n",
    "import time\n",
    "import requests \n",
    "import pandas as pd\n",
    "\n",
    "from random   import random\n",
    "from datetime import datetime\n",
    "\n",
    "# Definindo o PATH para o Arquivo Principal Vacinas.csv:\n",
    "print('Abrindo arquivo csv...  ')\n",
    "\n",
    "saving_path = 'vacinas_2021-05-02-1021.csv'\n",
    "\n",
    "print('Fazendo leitura do Arquivo csv ....')\n",
    "\n",
    "with open(saving_path, 'r') as fin:\n",
    "    reader = csv.reader(fin, delimiter = \";\")\n",
    "        \n",
    "    # O reader passa por cada uma das linhas do arquivo, uma a uma\n",
    "    # A primeira contém o nome das colunas originais, todas as que vieram do API\n",
    "    # O comando next le essa linha, vou guarda-la na variavel colunas_originais\n",
    "    # Importante: o arquivo vacinas.csv foi salvo com delimitador = ';'\n",
    "\n",
    "    colunas_originais = next(reader)   \n",
    "    \n",
    "    print(colunas_originais)\n",
    "\n",
    "    # Note que o valor da porcentagem, será o tamanho do arquivo de AMOSTRA!!\n",
    "    # Ja passamos pela primeira linha, agora vou passar por cada uma das seguintes\n",
    "    # e vou salvar, caso o valor de random() seja menor que 0.001\n",
    "    # O random gera um numero aleatorio entre 0 e 1. Entao dizer <=0.001\n",
    "    # basicamente significa dizer que tenho uma probabilidade de 1 em 1000 de\n",
    "    # salvar essa linha (ou que a cada 1000 linhas, em media eu vou guardar 1)\n",
    "    \n",
    "    rows   = [i for i in reader if random() <= 0.001] \n",
    "\n",
    "    # Transformo essas linhas em dataframe e uso a primeira linha que tinha salvo\n",
    "    # como nome das colunas. Repare que aqui ainda estamos com todas as colunas\n",
    "\n",
    "    df     = pd.DataFrame(rows)\n",
    "    df.columns = colunas_originais    \n",
    "    \n",
    "    print('Criando arquivo AMOSTRA..')\n",
    "    # Pego somente as colunas que eu quero:\n",
    "    \n",
    "    colunas_que_eu_quero  = ['vacina_fabricante_nome',\n",
    "                             'paciente_idade',\n",
    "                             'paciente_id',\n",
    "                             'vacina_dataAplicacao',\n",
    "                             'paciente_endereco_uf',\n",
    "                             'vacina_descricao_dose']\n",
    "    \n",
    "    df = df[colunas_que_eu_quero]\n",
    "\n",
    "\n",
    "    # Criando o arquivo BD_Vacina_Amostra-05-03-2021.csv \n",
    "    \n",
    "    df.to_csv('BD_Vacina_Amostra-03-05-2021.csv', index = False, sep = ';')\n",
    "     \n",
    "    \n",
    "print('Finalizando ....')"
   ]
  },
  {
   "cell_type": "code",
   "execution_count": 4,
   "metadata": {},
   "outputs": [
    {
     "data": {
      "text/plain": [
       "(44833, 6)"
      ]
     },
     "execution_count": 4,
     "metadata": {},
     "output_type": "execute_result"
    }
   ],
   "source": [
    "df.shape"
   ]
  },
  {
   "cell_type": "code",
   "execution_count": 5,
   "metadata": {},
   "outputs": [
    {
     "name": "stdout",
     "output_type": "stream",
     "text": [
      "<class 'pandas.core.frame.DataFrame'>\n",
      "RangeIndex: 44833 entries, 0 to 44832\n",
      "Data columns (total 6 columns):\n",
      " #   Column                  Non-Null Count  Dtype \n",
      "---  ------                  --------------  ----- \n",
      " 0   vacina_fabricante_nome  44833 non-null  object\n",
      " 1   paciente_idade          44833 non-null  object\n",
      " 2   paciente_id             44833 non-null  object\n",
      " 3   vacina_dataAplicacao    44833 non-null  object\n",
      " 4   paciente_endereco_uf    44833 non-null  object\n",
      " 5   vacina_descricao_dose   44833 non-null  object\n",
      "dtypes: object(6)\n",
      "memory usage: 2.1+ MB\n"
     ]
    }
   ],
   "source": [
    "df.info()\n"
   ]
  },
  {
   "cell_type": "code",
   "execution_count": null,
   "metadata": {},
   "outputs": [],
   "source": []
  }
 ],
 "metadata": {
  "kernelspec": {
   "display_name": "Python 3",
   "language": "python",
   "name": "python3"
  },
  "language_info": {
   "codemirror_mode": {
    "name": "ipython",
    "version": 3
   },
   "file_extension": ".py",
   "mimetype": "text/x-python",
   "name": "python",
   "nbconvert_exporter": "python",
   "pygments_lexer": "ipython3",
   "version": "3.8.5"
  }
 },
 "nbformat": 4,
 "nbformat_minor": 4
}
